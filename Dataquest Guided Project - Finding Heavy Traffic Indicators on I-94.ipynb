{
 "cells": [
  {
   "cell_type": "markdown",
   "metadata": {},
   "source": [
    "# Guided Project: Finding Heavy Traffic Indicators on I-94\n",
    "\n",
    "The goal of the analysis is to determine a few indiciators of heavy traffic on I-94. More specifically, westbound traffic from Saint Paul to Minneapolis . These indicators can be weather type, time of day, time of the week, etc. For instnace, we may find out that traffic the traffic is usually heavier in the summer or when it snows."
   ]
  },
  {
   "cell_type": "code",
   "execution_count": 1,
   "metadata": {},
   "outputs": [],
   "source": [
    "import pandas as pd\n",
    "I_94 = pd.read_csv('Metro_Interstate_Traffic_Volume.csv')"
   ]
  },
  {
   "cell_type": "code",
   "execution_count": 2,
   "metadata": {},
   "outputs": [
    {
     "data": {
      "text/html": [
       "<div>\n",
       "<style scoped>\n",
       "    .dataframe tbody tr th:only-of-type {\n",
       "        vertical-align: middle;\n",
       "    }\n",
       "\n",
       "    .dataframe tbody tr th {\n",
       "        vertical-align: top;\n",
       "    }\n",
       "\n",
       "    .dataframe thead th {\n",
       "        text-align: right;\n",
       "    }\n",
       "</style>\n",
       "<table border=\"1\" class=\"dataframe\">\n",
       "  <thead>\n",
       "    <tr style=\"text-align: right;\">\n",
       "      <th></th>\n",
       "      <th>holiday</th>\n",
       "      <th>temp</th>\n",
       "      <th>rain_1h</th>\n",
       "      <th>snow_1h</th>\n",
       "      <th>clouds_all</th>\n",
       "      <th>weather_main</th>\n",
       "      <th>weather_description</th>\n",
       "      <th>date_time</th>\n",
       "      <th>traffic_volume</th>\n",
       "    </tr>\n",
       "  </thead>\n",
       "  <tbody>\n",
       "    <tr>\n",
       "      <th>0</th>\n",
       "      <td>None</td>\n",
       "      <td>288.28</td>\n",
       "      <td>0.0</td>\n",
       "      <td>0.0</td>\n",
       "      <td>40</td>\n",
       "      <td>Clouds</td>\n",
       "      <td>scattered clouds</td>\n",
       "      <td>2012-10-02 09:00:00</td>\n",
       "      <td>5545</td>\n",
       "    </tr>\n",
       "    <tr>\n",
       "      <th>1</th>\n",
       "      <td>None</td>\n",
       "      <td>289.36</td>\n",
       "      <td>0.0</td>\n",
       "      <td>0.0</td>\n",
       "      <td>75</td>\n",
       "      <td>Clouds</td>\n",
       "      <td>broken clouds</td>\n",
       "      <td>2012-10-02 10:00:00</td>\n",
       "      <td>4516</td>\n",
       "    </tr>\n",
       "    <tr>\n",
       "      <th>2</th>\n",
       "      <td>None</td>\n",
       "      <td>289.58</td>\n",
       "      <td>0.0</td>\n",
       "      <td>0.0</td>\n",
       "      <td>90</td>\n",
       "      <td>Clouds</td>\n",
       "      <td>overcast clouds</td>\n",
       "      <td>2012-10-02 11:00:00</td>\n",
       "      <td>4767</td>\n",
       "    </tr>\n",
       "    <tr>\n",
       "      <th>3</th>\n",
       "      <td>None</td>\n",
       "      <td>290.13</td>\n",
       "      <td>0.0</td>\n",
       "      <td>0.0</td>\n",
       "      <td>90</td>\n",
       "      <td>Clouds</td>\n",
       "      <td>overcast clouds</td>\n",
       "      <td>2012-10-02 12:00:00</td>\n",
       "      <td>5026</td>\n",
       "    </tr>\n",
       "    <tr>\n",
       "      <th>4</th>\n",
       "      <td>None</td>\n",
       "      <td>291.14</td>\n",
       "      <td>0.0</td>\n",
       "      <td>0.0</td>\n",
       "      <td>75</td>\n",
       "      <td>Clouds</td>\n",
       "      <td>broken clouds</td>\n",
       "      <td>2012-10-02 13:00:00</td>\n",
       "      <td>4918</td>\n",
       "    </tr>\n",
       "  </tbody>\n",
       "</table>\n",
       "</div>"
      ],
      "text/plain": [
       "  holiday    temp  rain_1h  snow_1h  clouds_all weather_main  \\\n",
       "0    None  288.28      0.0      0.0          40       Clouds   \n",
       "1    None  289.36      0.0      0.0          75       Clouds   \n",
       "2    None  289.58      0.0      0.0          90       Clouds   \n",
       "3    None  290.13      0.0      0.0          90       Clouds   \n",
       "4    None  291.14      0.0      0.0          75       Clouds   \n",
       "\n",
       "  weather_description            date_time  traffic_volume  \n",
       "0    scattered clouds  2012-10-02 09:00:00            5545  \n",
       "1       broken clouds  2012-10-02 10:00:00            4516  \n",
       "2     overcast clouds  2012-10-02 11:00:00            4767  \n",
       "3     overcast clouds  2012-10-02 12:00:00            5026  \n",
       "4       broken clouds  2012-10-02 13:00:00            4918  "
      ]
     },
     "execution_count": 2,
     "metadata": {},
     "output_type": "execute_result"
    }
   ],
   "source": [
    "I_94.head()"
   ]
  },
  {
   "cell_type": "markdown",
   "metadata": {},
   "source": [
    "traffic_volume variable:\n",
    "\n",
    "The number represents the amount of cars passing a station each hour. This station recorded the traffic data. "
   ]
  },
  {
   "cell_type": "code",
   "execution_count": 3,
   "metadata": {},
   "outputs": [
    {
     "data": {
      "text/html": [
       "<div>\n",
       "<style scoped>\n",
       "    .dataframe tbody tr th:only-of-type {\n",
       "        vertical-align: middle;\n",
       "    }\n",
       "\n",
       "    .dataframe tbody tr th {\n",
       "        vertical-align: top;\n",
       "    }\n",
       "\n",
       "    .dataframe thead th {\n",
       "        text-align: right;\n",
       "    }\n",
       "</style>\n",
       "<table border=\"1\" class=\"dataframe\">\n",
       "  <thead>\n",
       "    <tr style=\"text-align: right;\">\n",
       "      <th></th>\n",
       "      <th>holiday</th>\n",
       "      <th>temp</th>\n",
       "      <th>rain_1h</th>\n",
       "      <th>snow_1h</th>\n",
       "      <th>clouds_all</th>\n",
       "      <th>weather_main</th>\n",
       "      <th>weather_description</th>\n",
       "      <th>date_time</th>\n",
       "      <th>traffic_volume</th>\n",
       "    </tr>\n",
       "  </thead>\n",
       "  <tbody>\n",
       "    <tr>\n",
       "      <th>48199</th>\n",
       "      <td>None</td>\n",
       "      <td>283.45</td>\n",
       "      <td>0.0</td>\n",
       "      <td>0.0</td>\n",
       "      <td>75</td>\n",
       "      <td>Clouds</td>\n",
       "      <td>broken clouds</td>\n",
       "      <td>2018-09-30 19:00:00</td>\n",
       "      <td>3543</td>\n",
       "    </tr>\n",
       "    <tr>\n",
       "      <th>48200</th>\n",
       "      <td>None</td>\n",
       "      <td>282.76</td>\n",
       "      <td>0.0</td>\n",
       "      <td>0.0</td>\n",
       "      <td>90</td>\n",
       "      <td>Clouds</td>\n",
       "      <td>overcast clouds</td>\n",
       "      <td>2018-09-30 20:00:00</td>\n",
       "      <td>2781</td>\n",
       "    </tr>\n",
       "    <tr>\n",
       "      <th>48201</th>\n",
       "      <td>None</td>\n",
       "      <td>282.73</td>\n",
       "      <td>0.0</td>\n",
       "      <td>0.0</td>\n",
       "      <td>90</td>\n",
       "      <td>Thunderstorm</td>\n",
       "      <td>proximity thunderstorm</td>\n",
       "      <td>2018-09-30 21:00:00</td>\n",
       "      <td>2159</td>\n",
       "    </tr>\n",
       "    <tr>\n",
       "      <th>48202</th>\n",
       "      <td>None</td>\n",
       "      <td>282.09</td>\n",
       "      <td>0.0</td>\n",
       "      <td>0.0</td>\n",
       "      <td>90</td>\n",
       "      <td>Clouds</td>\n",
       "      <td>overcast clouds</td>\n",
       "      <td>2018-09-30 22:00:00</td>\n",
       "      <td>1450</td>\n",
       "    </tr>\n",
       "    <tr>\n",
       "      <th>48203</th>\n",
       "      <td>None</td>\n",
       "      <td>282.12</td>\n",
       "      <td>0.0</td>\n",
       "      <td>0.0</td>\n",
       "      <td>90</td>\n",
       "      <td>Clouds</td>\n",
       "      <td>overcast clouds</td>\n",
       "      <td>2018-09-30 23:00:00</td>\n",
       "      <td>954</td>\n",
       "    </tr>\n",
       "  </tbody>\n",
       "</table>\n",
       "</div>"
      ],
      "text/plain": [
       "      holiday    temp  rain_1h  snow_1h  clouds_all  weather_main  \\\n",
       "48199    None  283.45      0.0      0.0          75        Clouds   \n",
       "48200    None  282.76      0.0      0.0          90        Clouds   \n",
       "48201    None  282.73      0.0      0.0          90  Thunderstorm   \n",
       "48202    None  282.09      0.0      0.0          90        Clouds   \n",
       "48203    None  282.12      0.0      0.0          90        Clouds   \n",
       "\n",
       "          weather_description            date_time  traffic_volume  \n",
       "48199           broken clouds  2018-09-30 19:00:00            3543  \n",
       "48200         overcast clouds  2018-09-30 20:00:00            2781  \n",
       "48201  proximity thunderstorm  2018-09-30 21:00:00            2159  \n",
       "48202         overcast clouds  2018-09-30 22:00:00            1450  \n",
       "48203         overcast clouds  2018-09-30 23:00:00             954  "
      ]
     },
     "execution_count": 3,
     "metadata": {},
     "output_type": "execute_result"
    }
   ],
   "source": [
    "I_94.tail()"
   ]
  },
  {
   "cell_type": "code",
   "execution_count": 4,
   "metadata": {},
   "outputs": [
    {
     "name": "stdout",
     "output_type": "stream",
     "text": [
      "<class 'pandas.core.frame.DataFrame'>\n",
      "RangeIndex: 48204 entries, 0 to 48203\n",
      "Data columns (total 9 columns):\n",
      " #   Column               Non-Null Count  Dtype  \n",
      "---  ------               --------------  -----  \n",
      " 0   holiday              48204 non-null  object \n",
      " 1   temp                 48204 non-null  float64\n",
      " 2   rain_1h              48204 non-null  float64\n",
      " 3   snow_1h              48204 non-null  float64\n",
      " 4   clouds_all           48204 non-null  int64  \n",
      " 5   weather_main         48204 non-null  object \n",
      " 6   weather_description  48204 non-null  object \n",
      " 7   date_time            48204 non-null  object \n",
      " 8   traffic_volume       48204 non-null  int64  \n",
      "dtypes: float64(3), int64(2), object(4)\n",
      "memory usage: 3.3+ MB\n"
     ]
    }
   ],
   "source": [
    "I_94.info()"
   ]
  },
  {
   "cell_type": "code",
   "execution_count": 5,
   "metadata": {},
   "outputs": [
    {
     "data": {
      "image/png": "[encoded data removed]",
      "text/plain": [
       "<Figure size 600x400 with 1 Axes>"
      ]
     },
     "metadata": {},
     "output_type": "display_data"
    }
   ],
   "source": [
    "import matplotlib.pyplot as plt\n",
    "%matplotlib inline\n",
    "\n",
    "plt.plot()\n",
    "plt.show()"
   ]
  },
  {
   "cell_type": "code",
   "execution_count": 6,
   "metadata": {},
   "outputs": [
    {
     "data": {
      "text/plain": [
       "count    48204.000000\n",
       "mean      3259.818355\n",
       "std       1986.860670\n",
       "min          0.000000\n",
       "25%       1193.000000\n",
       "50%       3380.000000\n",
       "75%       4933.000000\n",
       "max       7280.000000\n",
       "Name: traffic_volume, dtype: float64"
      ]
     },
     "execution_count": 6,
     "metadata": {},
     "output_type": "execute_result"
    }
   ],
   "source": [
    "I_94.traffic_volume.describe()"
   ]
  },
  {
   "cell_type": "code",
   "execution_count": 7,
   "metadata": {},
   "outputs": [
    {
     "data": {
      "text/plain": [
       "356     50\n",
       "353     50\n",
       "340     47\n",
       "351     44\n",
       "369     42\n",
       "        ..\n",
       "5091     1\n",
       "2156     1\n",
       "2252     1\n",
       "205      1\n",
       "7150     1\n",
       "Name: traffic_volume, Length: 6704, dtype: int64"
      ]
     },
     "execution_count": 7,
     "metadata": {},
     "output_type": "execute_result"
    }
   ],
   "source": [
    "I_94.traffic_volume.value_counts()"
   ]
  },
  {
   "cell_type": "code",
   "execution_count": 8,
   "metadata": {},
   "outputs": [
    {
     "data": {
      "text/plain": [
       "(array([8089., 5102., 2839., 4753., 4770., 4342., 7888., 5636., 3857.,\n",
       "         928.]),\n",
       " array([   0.,  728., 1456., 2184., 2912., 3640., 4368., 5096., 5824.,\n",
       "        6552., 7280.]),\n",
       " <a list of 10 Patch objects>)"
      ]
     },
     "execution_count": 8,
     "metadata": {},
     "output_type": "execute_result"
    },
    {
     "data": {
      "image/png": "[encoded data removed]",
      "text/plain": [
       "<Figure size 600x400 with 1 Axes>"
      ]
     },
     "metadata": {},
     "output_type": "display_data"
    }
   ],
   "source": [
    "plt.hist(I_94.traffic_volume)"
   ]
  },
  {
   "cell_type": "markdown",
   "metadata": {},
   "source": [
    "For the purposes of this excercise: \n",
    "    \n",
    "- Daytime: 7am - 7pm\n",
    "- Nighttime: 7pm - 7am"
   ]
  },
  {
   "cell_type": "code",
   "execution_count": 9,
   "metadata": {},
   "outputs": [],
   "source": [
    "I_94.date_time = pd.to_datetime(I_94.date_time)"
   ]
  },
  {
   "cell_type": "code",
   "execution_count": 10,
   "metadata": {},
   "outputs": [],
   "source": [
    "hours = I_94.date_time.dt.hour "
   ]
  },
  {
   "cell_type": "code",
   "execution_count": 11,
   "metadata": {},
   "outputs": [
    {
     "data": {
      "text/plain": [
       "0     2037\n",
       "1     2049\n",
       "2     2019\n",
       "3     2025\n",
       "4     2091\n",
       "5     2063\n",
       "6     2087\n",
       "7     2079\n",
       "8     2080\n",
       "9     2018\n",
       "10    2078\n",
       "11    1952\n",
       "12    1955\n",
       "13    1905\n",
       "14    1969\n",
       "15    1934\n",
       "16    1988\n",
       "17    1933\n",
       "18    1986\n",
       "19    1961\n",
       "20    1979\n",
       "21    1982\n",
       "22    1994\n",
       "23    2040\n",
       "Name: date_time, dtype: int64"
      ]
     },
     "execution_count": 11,
     "metadata": {},
     "output_type": "execute_result"
    }
   ],
   "source": [
    "hours.value_counts().sort_index()"
   ]
  },
  {
   "cell_type": "code",
   "execution_count": 12,
   "metadata": {},
   "outputs": [],
   "source": [
    "day_data = I_94.copy()[(I_94['date_time'].dt.hour >= 6) & \n",
    "                (I_94['date_time'].dt.hour <= 18)]\n",
    "night_data = I_94.copy()[(I_94['date_time'].dt.hour <= 6) | \n",
    "                (I_94['date_time'].dt.hour >= 18)]"
   ]
  },
  {
   "cell_type": "code",
   "execution_count": 13,
   "metadata": {},
   "outputs": [
    {
     "data": {
      "text/plain": [
       "(25964, 9)"
      ]
     },
     "execution_count": 13,
     "metadata": {},
     "output_type": "execute_result"
    }
   ],
   "source": [
    "day_data.shape"
   ]
  },
  {
   "cell_type": "code",
   "execution_count": 14,
   "metadata": {},
   "outputs": [
    {
     "data": {
      "text/plain": [
       "(26313, 9)"
      ]
     },
     "execution_count": 14,
     "metadata": {},
     "output_type": "execute_result"
    }
   ],
   "source": [
    "night_data.shape"
   ]
  },
  {
   "cell_type": "code",
   "execution_count": 15,
   "metadata": {},
   "outputs": [
    {
     "data": {
      "text/plain": [
       "9        18\n",
       "10       19\n",
       "11       20\n",
       "12       21\n",
       "13       22\n",
       "         ..\n",
       "48199    19\n",
       "48200    20\n",
       "48201    21\n",
       "48202    22\n",
       "48203    23\n",
       "Name: date_time, Length: 26313, dtype: int64"
      ]
     },
     "execution_count": 15,
     "metadata": {},
     "output_type": "execute_result"
    }
   ],
   "source": [
    "night_data.date_time.dt.hour"
   ]
  },
  {
   "cell_type": "code",
   "execution_count": 16,
   "metadata": {},
   "outputs": [
    {
     "data": {
      "text/plain": [
       "0         9\n",
       "1        10\n",
       "2        11\n",
       "3        12\n",
       "4        13\n",
       "         ..\n",
       "48194    15\n",
       "48195    15\n",
       "48196    16\n",
       "48197    17\n",
       "48198    18\n",
       "Name: date_time, Length: 25964, dtype: int64"
      ]
     },
     "execution_count": 16,
     "metadata": {},
     "output_type": "execute_result"
    }
   ],
   "source": [
    "day_data.date_time.dt.hour"
   ]
  },
  {
   "cell_type": "code",
   "execution_count": 17,
   "metadata": {},
   "outputs": [
    {
     "data": {
      "text/plain": [
       "(array([7154., 4988., 1957., 2377., 4434., 2138., 1000.,  937.,  893.,\n",
       "         435.]),\n",
       " array([   0. ,  638.6, 1277.2, 1915.8, 2554.4, 3193. , 3831.6, 4470.2,\n",
       "        5108.8, 5747.4, 6386. ]),\n",
       " <a list of 10 Patch objects>)"
      ]
     },
     "execution_count": 17,
     "metadata": {},
     "output_type": "execute_result"
    },
    {
     "data": {
      "image/png": "[encoded data removed]",
      "text/plain": [
       "<Figure size 700x300 with 2 Axes>"
      ]
     },
     "metadata": {},
     "output_type": "display_data"
    }
   ],
   "source": [
    "plt.figure(figsize =(7,3))\n",
    "plt.subplot(1, 2, 1)\n",
    "plt.hist(day_data['traffic_volume'])\n",
    "plt.subplot(1, 2, 2)\n",
    "plt.hist(night_data['traffic_volume'])"
   ]
  },
  {
   "cell_type": "markdown",
   "metadata": {},
   "source": [
    "### Analysis of the above:\n",
    "\n",
    "It appears during the hours from 7am to 7pm, the traffic volume; i.e., the number of cars passing the station each hour, occurs in the 4500 - 5000 range.\n",
    "\n",
    "From the hours 7pm to 7am, it appears the numbers of cars passing the station most often is between 0-500. "
   ]
  },
  {
   "cell_type": "markdown",
   "metadata": {},
   "source": [
    "### Question asked by the Guided Project\n",
    "\n",
    "If the traffic is light at night, and our goal is to find indicators of heavy traffic, should we still be using the nighttime data?"
   ]
  },
  {
   "cell_type": "markdown",
   "metadata": {},
   "source": [
    "To get a clearer look, we look at the percentage distribution of traffic volume for both the day and night data below."
   ]
  },
  {
   "cell_type": "code",
   "execution_count": 18,
   "metadata": {},
   "outputs": [
    {
     "data": {
      "text/plain": [
       "(-6.3870000000000005, 638.6]    0.271881\n",
       "(638.6, 1277.2]                 0.189564\n",
       "(1277.2, 1915.8]                0.074374\n",
       "(1915.8, 2554.4]                0.090336\n",
       "(2554.4, 3193.0]                0.168928\n",
       "(3193.0, 3831.6]                0.080835\n",
       "(3831.6, 4470.2]                0.038004\n",
       "(4470.2, 5108.8]                0.035610\n",
       "(5108.8, 5747.4]                0.033938\n",
       "(5747.4, 6386.0]                0.016532\n",
       "Name: traffic_volume, dtype: float64"
      ]
     },
     "execution_count": 18,
     "metadata": {},
     "output_type": "execute_result"
    }
   ],
   "source": [
    "night_data.traffic_volume.value_counts(bins = 10, normalize = True).sort_index()"
   ]
  },
  {
   "cell_type": "markdown",
   "metadata": {},
   "source": [
    "It turns out that the traffic volume for over 50% of the night hours dataset occurs under the 2000 range. "
   ]
  },
  {
   "cell_type": "code",
   "execution_count": 19,
   "metadata": {},
   "outputs": [
    {
     "data": {
      "text/plain": [
       "(-7.281000000000001, 728.0]    0.003929\n",
       "(728.0, 1456.0]                0.033392\n",
       "(1456.0, 2184.0]               0.028848\n",
       "(2184.0, 2912.0]               0.027962\n",
       "(2912.0, 3640.0]               0.053959\n",
       "(3640.0, 4368.0]               0.147974\n",
       "(4368.0, 5096.0]               0.302881\n",
       "(5096.0, 5824.0]               0.216993\n",
       "(5824.0, 6552.0]               0.148436\n",
       "(6552.0, 7280.0]               0.035626\n",
       "Name: traffic_volume, dtype: float64"
      ]
     },
     "execution_count": 19,
     "metadata": {},
     "output_type": "execute_result"
    }
   ],
   "source": [
    "day_data.traffic_volume.value_counts(bins = 10, normalize = True).sort_index()"
   ]
  },
  {
   "cell_type": "markdown",
   "metadata": {},
   "source": [
    "While for the day hours dataset, over 50% of the cars passing the station occur between the 4368-5824 range.\n",
    "\n",
    "In other words, 50% of the time, there are between 4368-5824 during the hours from 7am to 7pm."
   ]
  },
  {
   "cell_type": "markdown",
   "metadata": {},
   "source": [
    "In answer of the above question, \"If the traffic is light at night, and our goal is to find indicators of heavy traffic, should we still be using the nighttime data?\""
   ]
  },
  {
   "cell_type": "code",
   "execution_count": 20,
   "metadata": {},
   "outputs": [],
   "source": [
    "day_data['month'] = day_data['date_time'].dt.month"
   ]
  },
  {
   "cell_type": "code",
   "execution_count": 21,
   "metadata": {},
   "outputs": [
    {
     "data": {
      "text/plain": [
       "1     2158\n",
       "2     1881\n",
       "3     2016\n",
       "4     2252\n",
       "5     2398\n",
       "6     2065\n",
       "7     2595\n",
       "8     2363\n",
       "9     2026\n",
       "10    1888\n",
       "11    1977\n",
       "12    2345\n",
       "Name: month, dtype: int64"
      ]
     },
     "execution_count": 21,
     "metadata": {},
     "output_type": "execute_result"
    }
   ],
   "source": [
    "day_data.month.value_counts().sort_index()"
   ]
  },
  {
   "cell_type": "code",
   "execution_count": 22,
   "metadata": {},
   "outputs": [
    {
     "data": {
      "text/plain": [
       "month\n",
       "1     4454.437905\n",
       "2     4668.720893\n",
       "3     4808.595238\n",
       "4     4855.753996\n",
       "5     4864.847373\n",
       "6     4844.947215\n",
       "7     4548.161464\n",
       "8     4880.405840\n",
       "9     4822.254195\n",
       "10    4885.176377\n",
       "11    4655.133030\n",
       "12    4315.102345\n",
       "Name: traffic_volume, dtype: float64"
      ]
     },
     "execution_count": 22,
     "metadata": {},
     "output_type": "execute_result"
    }
   ],
   "source": [
    "by_month = day_data.groupby('month').mean()\n",
    "by_month['traffic_volume']"
   ]
  },
  {
   "cell_type": "code",
   "execution_count": 24,
   "metadata": {},
   "outputs": [
    {
     "data": {
      "image/png": "[encoded data removed]",
      "text/plain": [
       "<Figure size 600x400 with 1 Axes>"
      ]
     },
     "metadata": {},
     "output_type": "display_data"
    }
   ],
   "source": [
    "by_month['traffic_volume'].plot.line()\n",
    "plt.show()"
   ]
  },
  {
   "cell_type": "markdown",
   "metadata": {},
   "source": [
    "### Analysis of the above\n",
    "\n",
    "You may have been able to make an analysis that the temperature had an impact on traffic volume, and that less cars drove during the colder months than in the warmer ones. However, In July, it dips to March levels. \n",
    "\n",
    "There could be many reasons why July dipped. One reason was that the weather was too hot during July this year. Another is that people were traveling more and away from their homes. "
   ]
  },
  {
   "cell_type": "code",
   "execution_count": 32,
   "metadata": {},
   "outputs": [
    {
     "data": {
      "text/plain": [
       "dayofweek\n",
       "0    4909.070198\n",
       "1    5214.632228\n",
       "2    5305.494133\n",
       "3    5325.301445\n",
       "4    5283.891671\n",
       "5    3723.530435\n",
       "6    3222.410782\n",
       "Name: traffic_volume, dtype: float64"
      ]
     },
     "execution_count": 32,
     "metadata": {},
     "output_type": "execute_result"
    }
   ],
   "source": [
    "day_data['dayofweek'] = day_data['date_time'].dt.dayofweek\n",
    "by_dayofweek = day_data.groupby('dayofweek').mean()\n",
    "by_dayofweek['traffic_volume']"
   ]
  },
  {
   "cell_type": "code",
   "execution_count": 33,
   "metadata": {},
   "outputs": [
    {
     "data": {
      "image/png": "[encoded data removed]",
      "text/plain": [
       "<Figure size 600x400 with 1 Axes>"
      ]
     },
     "metadata": {},
     "output_type": "display_data"
    }
   ],
   "source": [
    "by_dayofweek['traffic_volume'].plot.line()\n",
    "plt.show()"
   ]
  },
  {
   "cell_type": "markdown",
   "metadata": {},
   "source": [
    "Based on the plot above, we see that on the weekends, the traffic is lower. "
   ]
  },
  {
   "cell_type": "code",
   "execution_count": 34,
   "metadata": {},
   "outputs": [],
   "source": [
    "day_data['hour'] = day_data['date_time'].dt.hour"
   ]
  },
  {
   "cell_type": "code",
   "execution_count": 92,
   "metadata": {},
   "outputs": [
    {
     "data": {
      "text/html": [
       "<div>\n",
       "<style scoped>\n",
       "    .dataframe tbody tr th:only-of-type {\n",
       "        vertical-align: middle;\n",
       "    }\n",
       "\n",
       "    .dataframe tbody tr th {\n",
       "        vertical-align: top;\n",
       "    }\n",
       "\n",
       "    .dataframe thead th {\n",
       "        text-align: right;\n",
       "    }\n",
       "</style>\n",
       "<table border=\"1\" class=\"dataframe\">\n",
       "  <thead>\n",
       "    <tr style=\"text-align: right;\">\n",
       "      <th></th>\n",
       "      <th>temp</th>\n",
       "      <th>rain_1h</th>\n",
       "      <th>snow_1h</th>\n",
       "      <th>clouds_all</th>\n",
       "      <th>traffic_volume</th>\n",
       "      <th>month</th>\n",
       "      <th>dayofweek</th>\n",
       "      <th>weekend</th>\n",
       "      <th>weekday</th>\n",
       "    </tr>\n",
       "    <tr>\n",
       "      <th>hour</th>\n",
       "      <th></th>\n",
       "      <th></th>\n",
       "      <th></th>\n",
       "      <th></th>\n",
       "      <th></th>\n",
       "      <th></th>\n",
       "      <th></th>\n",
       "      <th></th>\n",
       "      <th></th>\n",
       "    </tr>\n",
       "  </thead>\n",
       "  <tbody>\n",
       "    <tr>\n",
       "      <th>6</th>\n",
       "      <td>278.115656</td>\n",
       "      <td>0.270134</td>\n",
       "      <td>0.000000</td>\n",
       "      <td>44.491639</td>\n",
       "      <td>1089.100334</td>\n",
       "      <td>6.533445</td>\n",
       "      <td>5.521739</td>\n",
       "      <td>True</td>\n",
       "      <td>False</td>\n",
       "    </tr>\n",
       "    <tr>\n",
       "      <th>7</th>\n",
       "      <td>278.095331</td>\n",
       "      <td>0.291540</td>\n",
       "      <td>0.000000</td>\n",
       "      <td>50.006623</td>\n",
       "      <td>1589.365894</td>\n",
       "      <td>6.518212</td>\n",
       "      <td>5.501656</td>\n",
       "      <td>True</td>\n",
       "      <td>False</td>\n",
       "    </tr>\n",
       "    <tr>\n",
       "      <th>8</th>\n",
       "      <td>277.981017</td>\n",
       "      <td>0.083870</td>\n",
       "      <td>0.000083</td>\n",
       "      <td>48.877076</td>\n",
       "      <td>2338.578073</td>\n",
       "      <td>6.523256</td>\n",
       "      <td>5.503322</td>\n",
       "      <td>True</td>\n",
       "      <td>False</td>\n",
       "    </tr>\n",
       "    <tr>\n",
       "      <th>9</th>\n",
       "      <td>279.785660</td>\n",
       "      <td>0.075234</td>\n",
       "      <td>0.000364</td>\n",
       "      <td>49.688042</td>\n",
       "      <td>3111.623917</td>\n",
       "      <td>6.603120</td>\n",
       "      <td>5.492201</td>\n",
       "      <td>True</td>\n",
       "      <td>False</td>\n",
       "    </tr>\n",
       "    <tr>\n",
       "      <th>10</th>\n",
       "      <td>280.403811</td>\n",
       "      <td>0.079674</td>\n",
       "      <td>0.000103</td>\n",
       "      <td>48.915808</td>\n",
       "      <td>3686.632302</td>\n",
       "      <td>6.491409</td>\n",
       "      <td>5.503436</td>\n",
       "      <td>True</td>\n",
       "      <td>False</td>\n",
       "    </tr>\n",
       "    <tr>\n",
       "      <th>11</th>\n",
       "      <td>282.129355</td>\n",
       "      <td>0.141387</td>\n",
       "      <td>0.000000</td>\n",
       "      <td>52.372973</td>\n",
       "      <td>4044.154955</td>\n",
       "      <td>6.482883</td>\n",
       "      <td>5.491892</td>\n",
       "      <td>True</td>\n",
       "      <td>False</td>\n",
       "    </tr>\n",
       "    <tr>\n",
       "      <th>12</th>\n",
       "      <td>282.936119</td>\n",
       "      <td>0.095784</td>\n",
       "      <td>0.000000</td>\n",
       "      <td>51.418018</td>\n",
       "      <td>4372.482883</td>\n",
       "      <td>6.500901</td>\n",
       "      <td>5.493694</td>\n",
       "      <td>True</td>\n",
       "      <td>False</td>\n",
       "    </tr>\n",
       "    <tr>\n",
       "      <th>13</th>\n",
       "      <td>283.784951</td>\n",
       "      <td>0.180452</td>\n",
       "      <td>0.000000</td>\n",
       "      <td>53.095841</td>\n",
       "      <td>4362.296564</td>\n",
       "      <td>6.580470</td>\n",
       "      <td>5.497288</td>\n",
       "      <td>True</td>\n",
       "      <td>False</td>\n",
       "    </tr>\n",
       "    <tr>\n",
       "      <th>14</th>\n",
       "      <td>284.663261</td>\n",
       "      <td>0.087847</td>\n",
       "      <td>0.000000</td>\n",
       "      <td>52.735401</td>\n",
       "      <td>4358.543796</td>\n",
       "      <td>6.644161</td>\n",
       "      <td>5.500000</td>\n",
       "      <td>True</td>\n",
       "      <td>False</td>\n",
       "    </tr>\n",
       "    <tr>\n",
       "      <th>15</th>\n",
       "      <td>284.854578</td>\n",
       "      <td>0.074771</td>\n",
       "      <td>0.000000</td>\n",
       "      <td>52.148624</td>\n",
       "      <td>4342.456881</td>\n",
       "      <td>6.612844</td>\n",
       "      <td>5.506422</td>\n",
       "      <td>True</td>\n",
       "      <td>False</td>\n",
       "    </tr>\n",
       "    <tr>\n",
       "      <th>16</th>\n",
       "      <td>284.755487</td>\n",
       "      <td>0.145894</td>\n",
       "      <td>0.000000</td>\n",
       "      <td>53.630088</td>\n",
       "      <td>4339.693805</td>\n",
       "      <td>6.566372</td>\n",
       "      <td>5.507965</td>\n",
       "      <td>True</td>\n",
       "      <td>False</td>\n",
       "    </tr>\n",
       "    <tr>\n",
       "      <th>17</th>\n",
       "      <td>284.760020</td>\n",
       "      <td>0.135783</td>\n",
       "      <td>0.000000</td>\n",
       "      <td>53.064057</td>\n",
       "      <td>4151.919929</td>\n",
       "      <td>6.571174</td>\n",
       "      <td>5.508897</td>\n",
       "      <td>True</td>\n",
       "      <td>False</td>\n",
       "    </tr>\n",
       "    <tr>\n",
       "      <th>18</th>\n",
       "      <td>284.308607</td>\n",
       "      <td>0.040956</td>\n",
       "      <td>0.000000</td>\n",
       "      <td>50.948529</td>\n",
       "      <td>3811.792279</td>\n",
       "      <td>6.531250</td>\n",
       "      <td>5.496324</td>\n",
       "      <td>True</td>\n",
       "      <td>False</td>\n",
       "    </tr>\n",
       "  </tbody>\n",
       "</table>\n",
       "</div>"
      ],
      "text/plain": [
       "            temp   rain_1h   snow_1h  clouds_all  traffic_volume     month  \\\n",
       "hour                                                                         \n",
       "6     278.115656  0.270134  0.000000   44.491639     1089.100334  6.533445   \n",
       "7     278.095331  0.291540  0.000000   50.006623     1589.365894  6.518212   \n",
       "8     277.981017  0.083870  0.000083   48.877076     2338.578073  6.523256   \n",
       "9     279.785660  0.075234  0.000364   49.688042     3111.623917  6.603120   \n",
       "10    280.403811  0.079674  0.000103   48.915808     3686.632302  6.491409   \n",
       "11    282.129355  0.141387  0.000000   52.372973     4044.154955  6.482883   \n",
       "12    282.936119  0.095784  0.000000   51.418018     4372.482883  6.500901   \n",
       "13    283.784951  0.180452  0.000000   53.095841     4362.296564  6.580470   \n",
       "14    284.663261  0.087847  0.000000   52.735401     4358.543796  6.644161   \n",
       "15    284.854578  0.074771  0.000000   52.148624     4342.456881  6.612844   \n",
       "16    284.755487  0.145894  0.000000   53.630088     4339.693805  6.566372   \n",
       "17    284.760020  0.135783  0.000000   53.064057     4151.919929  6.571174   \n",
       "18    284.308607  0.040956  0.000000   50.948529     3811.792279  6.531250   \n",
       "\n",
       "      dayofweek  weekend  weekday  \n",
       "hour                               \n",
       "6      5.521739     True    False  \n",
       "7      5.501656     True    False  \n",
       "8      5.503322     True    False  \n",
       "9      5.492201     True    False  \n",
       "10     5.503436     True    False  \n",
       "11     5.491892     True    False  \n",
       "12     5.493694     True    False  \n",
       "13     5.497288     True    False  \n",
       "14     5.500000     True    False  \n",
       "15     5.506422     True    False  \n",
       "16     5.507965     True    False  \n",
       "17     5.508897     True    False  \n",
       "18     5.496324     True    False  "
      ]
     },
     "execution_count": 92,
     "metadata": {},
     "output_type": "execute_result"
    }
   ],
   "source": [
    "day_data['weekend'] = day_data['dayofweek'] >= 5\n",
    "day_data['weekday'] = day_data['dayofweek'] <= 4\n",
    "weekend = day_data[day_data['weekend']]\n",
    "weekday = day_data[day_data['weekday']]\n",
    "weekend_hours = weekend.groupby('hour').mean()\n",
    "weekend_hours"
   ]
  },
  {
   "cell_type": "code",
   "execution_count": 68,
   "metadata": {},
   "outputs": [
    {
     "data": {
      "text/html": [
       "<div>\n",
       "<style scoped>\n",
       "    .dataframe tbody tr th:only-of-type {\n",
       "        vertical-align: middle;\n",
       "    }\n",
       "\n",
       "    .dataframe tbody tr th {\n",
       "        vertical-align: top;\n",
       "    }\n",
       "\n",
       "    .dataframe thead th {\n",
       "        text-align: right;\n",
       "    }\n",
       "</style>\n",
       "<table border=\"1\" class=\"dataframe\">\n",
       "  <thead>\n",
       "    <tr style=\"text-align: right;\">\n",
       "      <th></th>\n",
       "      <th>temp</th>\n",
       "      <th>rain_1h</th>\n",
       "      <th>snow_1h</th>\n",
       "      <th>clouds_all</th>\n",
       "      <th>traffic_volume</th>\n",
       "      <th>month</th>\n",
       "      <th>dayofweek</th>\n",
       "      <th>weekend</th>\n",
       "      <th>weekday</th>\n",
       "    </tr>\n",
       "    <tr>\n",
       "      <th>hour</th>\n",
       "      <th></th>\n",
       "      <th></th>\n",
       "      <th></th>\n",
       "      <th></th>\n",
       "      <th></th>\n",
       "      <th></th>\n",
       "      <th></th>\n",
       "      <th></th>\n",
       "      <th></th>\n",
       "    </tr>\n",
       "  </thead>\n",
       "  <tbody>\n",
       "    <tr>\n",
       "      <th>6</th>\n",
       "      <td>278.432872</td>\n",
       "      <td>0.164433</td>\n",
       "      <td>0.000067</td>\n",
       "      <td>45.685695</td>\n",
       "      <td>5365.983210</td>\n",
       "      <td>6.573539</td>\n",
       "      <td>1.997314</td>\n",
       "      <td>False</td>\n",
       "      <td>True</td>\n",
       "    </tr>\n",
       "    <tr>\n",
       "      <th>7</th>\n",
       "      <td>278.662639</td>\n",
       "      <td>0.145105</td>\n",
       "      <td>0.000068</td>\n",
       "      <td>50.538983</td>\n",
       "      <td>6030.413559</td>\n",
       "      <td>6.363390</td>\n",
       "      <td>1.984407</td>\n",
       "      <td>False</td>\n",
       "      <td>True</td>\n",
       "    </tr>\n",
       "    <tr>\n",
       "      <th>8</th>\n",
       "      <td>278.938443</td>\n",
       "      <td>0.144614</td>\n",
       "      <td>0.000135</td>\n",
       "      <td>53.666441</td>\n",
       "      <td>5503.497970</td>\n",
       "      <td>6.567659</td>\n",
       "      <td>1.989175</td>\n",
       "      <td>False</td>\n",
       "      <td>True</td>\n",
       "    </tr>\n",
       "    <tr>\n",
       "      <th>9</th>\n",
       "      <td>279.628421</td>\n",
       "      <td>0.156829</td>\n",
       "      <td>0.000139</td>\n",
       "      <td>53.619709</td>\n",
       "      <td>4895.269257</td>\n",
       "      <td>6.484386</td>\n",
       "      <td>1.981263</td>\n",
       "      <td>False</td>\n",
       "      <td>True</td>\n",
       "    </tr>\n",
       "    <tr>\n",
       "      <th>10</th>\n",
       "      <td>280.664650</td>\n",
       "      <td>0.113984</td>\n",
       "      <td>0.000033</td>\n",
       "      <td>54.781417</td>\n",
       "      <td>4378.419118</td>\n",
       "      <td>6.481283</td>\n",
       "      <td>1.957888</td>\n",
       "      <td>False</td>\n",
       "      <td>True</td>\n",
       "    </tr>\n",
       "    <tr>\n",
       "      <th>11</th>\n",
       "      <td>281.850231</td>\n",
       "      <td>0.151976</td>\n",
       "      <td>0.000000</td>\n",
       "      <td>52.808876</td>\n",
       "      <td>4633.419470</td>\n",
       "      <td>6.448819</td>\n",
       "      <td>1.979957</td>\n",
       "      <td>False</td>\n",
       "      <td>True</td>\n",
       "    </tr>\n",
       "    <tr>\n",
       "      <th>12</th>\n",
       "      <td>282.832763</td>\n",
       "      <td>0.090271</td>\n",
       "      <td>0.001543</td>\n",
       "      <td>53.855714</td>\n",
       "      <td>4855.382143</td>\n",
       "      <td>6.569286</td>\n",
       "      <td>1.989286</td>\n",
       "      <td>False</td>\n",
       "      <td>True</td>\n",
       "    </tr>\n",
       "    <tr>\n",
       "      <th>13</th>\n",
       "      <td>283.292447</td>\n",
       "      <td>0.092433</td>\n",
       "      <td>0.000370</td>\n",
       "      <td>53.325444</td>\n",
       "      <td>4859.180473</td>\n",
       "      <td>6.465237</td>\n",
       "      <td>1.982988</td>\n",
       "      <td>False</td>\n",
       "      <td>True</td>\n",
       "    </tr>\n",
       "    <tr>\n",
       "      <th>14</th>\n",
       "      <td>284.091787</td>\n",
       "      <td>0.102991</td>\n",
       "      <td>0.000746</td>\n",
       "      <td>55.326531</td>\n",
       "      <td>5152.995778</td>\n",
       "      <td>6.588318</td>\n",
       "      <td>1.990852</td>\n",
       "      <td>False</td>\n",
       "      <td>True</td>\n",
       "    </tr>\n",
       "    <tr>\n",
       "      <th>15</th>\n",
       "      <td>284.450605</td>\n",
       "      <td>0.090036</td>\n",
       "      <td>0.000274</td>\n",
       "      <td>54.168467</td>\n",
       "      <td>5592.897768</td>\n",
       "      <td>6.541397</td>\n",
       "      <td>1.962563</td>\n",
       "      <td>False</td>\n",
       "      <td>True</td>\n",
       "    </tr>\n",
       "    <tr>\n",
       "      <th>16</th>\n",
       "      <td>284.399011</td>\n",
       "      <td>0.118180</td>\n",
       "      <td>0.000632</td>\n",
       "      <td>54.444132</td>\n",
       "      <td>6189.473647</td>\n",
       "      <td>6.580464</td>\n",
       "      <td>1.995081</td>\n",
       "      <td>False</td>\n",
       "      <td>True</td>\n",
       "    </tr>\n",
       "    <tr>\n",
       "      <th>17</th>\n",
       "      <td>284.263033</td>\n",
       "      <td>7.299358</td>\n",
       "      <td>0.000000</td>\n",
       "      <td>55.204960</td>\n",
       "      <td>5784.827133</td>\n",
       "      <td>6.510576</td>\n",
       "      <td>1.994165</td>\n",
       "      <td>False</td>\n",
       "      <td>True</td>\n",
       "    </tr>\n",
       "    <tr>\n",
       "      <th>18</th>\n",
       "      <td>284.388061</td>\n",
       "      <td>0.121533</td>\n",
       "      <td>0.000125</td>\n",
       "      <td>54.183079</td>\n",
       "      <td>4434.209431</td>\n",
       "      <td>6.529126</td>\n",
       "      <td>1.988211</td>\n",
       "      <td>False</td>\n",
       "      <td>True</td>\n",
       "    </tr>\n",
       "  </tbody>\n",
       "</table>\n",
       "</div>"
      ],
      "text/plain": [
       "            temp   rain_1h   snow_1h  clouds_all  traffic_volume     month  \\\n",
       "hour                                                                         \n",
       "6     278.432872  0.164433  0.000067   45.685695     5365.983210  6.573539   \n",
       "7     278.662639  0.145105  0.000068   50.538983     6030.413559  6.363390   \n",
       "8     278.938443  0.144614  0.000135   53.666441     5503.497970  6.567659   \n",
       "9     279.628421  0.156829  0.000139   53.619709     4895.269257  6.484386   \n",
       "10    280.664650  0.113984  0.000033   54.781417     4378.419118  6.481283   \n",
       "11    281.850231  0.151976  0.000000   52.808876     4633.419470  6.448819   \n",
       "12    282.832763  0.090271  0.001543   53.855714     4855.382143  6.569286   \n",
       "13    283.292447  0.092433  0.000370   53.325444     4859.180473  6.465237   \n",
       "14    284.091787  0.102991  0.000746   55.326531     5152.995778  6.588318   \n",
       "15    284.450605  0.090036  0.000274   54.168467     5592.897768  6.541397   \n",
       "16    284.399011  0.118180  0.000632   54.444132     6189.473647  6.580464   \n",
       "17    284.263033  7.299358  0.000000   55.204960     5784.827133  6.510576   \n",
       "18    284.388061  0.121533  0.000125   54.183079     4434.209431  6.529126   \n",
       "\n",
       "      dayofweek  weekend  weekday  \n",
       "hour                               \n",
       "6      1.997314    False     True  \n",
       "7      1.984407    False     True  \n",
       "8      1.989175    False     True  \n",
       "9      1.981263    False     True  \n",
       "10     1.957888    False     True  \n",
       "11     1.979957    False     True  \n",
       "12     1.989286    False     True  \n",
       "13     1.982988    False     True  \n",
       "14     1.990852    False     True  \n",
       "15     1.962563    False     True  \n",
       "16     1.995081    False     True  \n",
       "17     1.994165    False     True  \n",
       "18     1.988211    False     True  "
      ]
     },
     "execution_count": 68,
     "metadata": {},
     "output_type": "execute_result"
    }
   ],
   "source": [
    "weekday_hours = weekday.groupby('hour').mean()\n",
    "weekday_hours"
   ]
  },
  {
   "cell_type": "code",
   "execution_count": 89,
   "metadata": {},
   "outputs": [
    {
     "data": {
      "text/plain": [
       "Text(0.5, 1.0, 'Weekend Traffic Volume by Hour')"
      ]
     },
     "execution_count": 89,
     "metadata": {},
     "output_type": "execute_result"
    },
    {
     "data": {
      "image/png": "[encoded data removed]",
      "text/plain": [
       "<Figure size 800x400 with 2 Axes>"
      ]
     },
     "metadata": {},
     "output_type": "display_data"
    }
   ],
   "source": [
    "plt.figure(figsize = (8, 4))\n",
    "plt.subplot(1, 2, 1)\n",
    "weekday_data['traffic_volume'].plot.line()\n",
    "plt.xlim(6, 18)\n",
    "plt.ylim(1000, 7000)\n",
    "plt.title('Weekday Traffic Volume by Hour')\n",
    "\n",
    "plt.subplot(1, 2, 2)\n",
    "weekend_data['traffic_volume'].plot.line()\n",
    "plt.xlim(6, 18)\n",
    "plt.ylim(1000, 7000)\n",
    "plt.title('Weekend Traffic Volume by Hour')"
   ]
  },
  {
   "cell_type": "markdown",
   "metadata": {},
   "source": [
    "### Analysis of the above\n",
    "\n",
    "On weekdays, traffic is at one of it's highest points at 8am, potentially when people are going to work, school, etc. Volumes then decrease to the low for the day at 11am. They slowly increase and do not reach 8am levels until around 4pm, where the ultimate peak levels occur for the day. This is potentially when school ends and traffic picks up, especially if there are busses being used, kids are going to after school activities, etc. \n",
    "\n",
    "On weekends, traffic is at it's lowest at the start of the plot, 7am. It then rises by about from 500-800 cars per hour from 7am to 11am, and then 300-400 from 11am to 1pm. It then peaks at 4372 automobiles passing the station per hour at 1pm, and slowly declines by about 10 cars pers hour until 5. The drop off then occurs from 5-6, where it drops by around 200 cars per hour, and then lastly from 6-7 where it drops around 300 cars per hour. "
   ]
  },
  {
   "cell_type": "code",
   "execution_count": 99,
   "metadata": {},
   "outputs": [
    {
     "data": {
      "text/plain": [
       "hour\n",
       "6     1089.100334\n",
       "7     1589.365894\n",
       "8     2338.578073\n",
       "9     3111.623917\n",
       "10    3686.632302\n",
       "11    4044.154955\n",
       "12    4372.482883\n",
       "13    4362.296564\n",
       "14    4358.543796\n",
       "15    4342.456881\n",
       "16    4339.693805\n",
       "17    4151.919929\n",
       "18    3811.792279\n",
       "Name: traffic_volume, dtype: float64"
      ]
     },
     "execution_count": 99,
     "metadata": {},
     "output_type": "execute_result"
    }
   ],
   "source": [
    "weekend_hours['traffic_volume']"
   ]
  },
  {
   "cell_type": "code",
   "execution_count": 100,
   "metadata": {},
   "outputs": [
    {
     "data": {
      "text/plain": [
       "hour\n",
       "6     5365.983210\n",
       "7     6030.413559\n",
       "8     5503.497970\n",
       "9     4895.269257\n",
       "10    4378.419118\n",
       "11    4633.419470\n",
       "12    4855.382143\n",
       "13    4859.180473\n",
       "14    5152.995778\n",
       "15    5592.897768\n",
       "16    6189.473647\n",
       "17    5784.827133\n",
       "18    4434.209431\n",
       "Name: traffic_volume, dtype: float64"
      ]
     },
     "execution_count": 100,
     "metadata": {},
     "output_type": "execute_result"
    }
   ],
   "source": [
    "weekday_hours['traffic_volume']"
   ]
  },
  {
   "cell_type": "code",
   "execution_count": 107,
   "metadata": {},
   "outputs": [
    {
     "data": {
      "text/plain": [
       "0.0033204794231540343"
      ]
     },
     "execution_count": 107,
     "metadata": {},
     "output_type": "execute_result"
    }
   ],
   "source": [
    "day_data['traffic_volume'].corr(day_data['temp'])"
   ]
  },
  {
   "cell_type": "code",
   "execution_count": 109,
   "metadata": {},
   "outputs": [
    {
     "data": {
      "text/plain": [
       "0.0033204794231540343"
      ]
     },
     "execution_count": 109,
     "metadata": {},
     "output_type": "execute_result"
    }
   ],
   "source": [
    "day_data['traffic_volume'].corr(day_data['rain_1h'])"
   ]
  },
  {
   "cell_type": "code",
   "execution_count": 110,
   "metadata": {},
   "outputs": [
    {
     "data": {
      "text/plain": [
       "0.0017745952971162501"
      ]
     },
     "execution_count": 110,
     "metadata": {},
     "output_type": "execute_result"
    }
   ],
   "source": [
    "day_data['traffic_volume'].corr(day_data['snow_1h'])"
   ]
  },
  {
   "cell_type": "code",
   "execution_count": 115,
   "metadata": {},
   "outputs": [
    {
     "data": {
      "text/plain": [
       "-0.022064197982817387"
      ]
     },
     "execution_count": 115,
     "metadata": {},
     "output_type": "execute_result"
    }
   ],
   "source": [
    "day_data['traffic_volume'].corr(day_data['clouds_all'])"
   ]
  },
  {
   "cell_type": "markdown",
   "metadata": {},
   "source": [
    "None of the above correlations look very strong "
   ]
  },
  {
   "cell_type": "code",
   "execution_count": 117,
   "metadata": {},
   "outputs": [
    {
     "data": {
      "text/plain": [
       "temp              0.126774\n",
       "rain_1h           0.003320\n",
       "snow_1h           0.001775\n",
       "clouds_all       -0.022064\n",
       "traffic_volume    1.000000\n",
       "month            -0.020242\n",
       "dayofweek        -0.447838\n",
       "hour              0.195676\n",
       "weekend          -0.610359\n",
       "weekday           0.610359\n",
       "Name: traffic_volume, dtype: float64"
      ]
     },
     "execution_count": 117,
     "metadata": {},
     "output_type": "execute_result"
    }
   ],
   "source": [
    "day_data.corr()['traffic_volume']"
   ]
  },
  {
   "cell_type": "code",
   "execution_count": 121,
   "metadata": {},
   "outputs": [],
   "source": [
    "by_weather_main = day_data.groupby('weather_main').mean()\n",
    "by_weather_description = day_data.groupby('weather_description').mean()"
   ]
  },
  {
   "cell_type": "code",
   "execution_count": 123,
   "metadata": {},
   "outputs": [
    {
     "data": {
      "text/plain": [
       "<matplotlib.axes._subplots.AxesSubplot at 0x7f2af90afdf0>"
      ]
     },
     "execution_count": 123,
     "metadata": {},
     "output_type": "execute_result"
    },
    {
     "data": {
      "image/png": "[encoded data removed]",
      "text/plain": [
       "<Figure size 600x400 with 1 Axes>"
      ]
     },
     "metadata": {},
     "output_type": "display_data"
    }
   ],
   "source": [
    "by_weather_main['traffic_volume'].plot.barh()"
   ]
  },
  {
   "cell_type": "code",
   "execution_count": 124,
   "metadata": {},
   "outputs": [
    {
     "data": {
      "text/plain": [
       "weather_main\n",
       "Clear           4722.645962\n",
       "Clouds          4825.436729\n",
       "Drizzle         4791.208589\n",
       "Fog             4331.733333\n",
       "Haze            4594.139932\n",
       "Mist            4558.200401\n",
       "Rain            4771.561892\n",
       "Smoke           4317.076923\n",
       "Snow            4358.179975\n",
       "Squall          4211.000000\n",
       "Thunderstorm    4579.394790\n",
       "Name: traffic_volume, dtype: float64"
      ]
     },
     "execution_count": 124,
     "metadata": {},
     "output_type": "execute_result"
    }
   ],
   "source": [
    "by_weather_main['traffic_volume']"
   ]
  },
  {
   "cell_type": "markdown",
   "metadata": {},
   "source": [
    "It looks like Fog, Smoke, Snow, and Sqall are the only weather types that correlate to a traffic volume dip below 4558."
   ]
  },
  {
   "cell_type": "code",
   "execution_count": 136,
   "metadata": {},
   "outputs": [
    {
     "data": {
      "text/plain": [
       "<matplotlib.axes._subplots.AxesSubplot at 0x7f2af63e5f10>"
      ]
     },
     "execution_count": 136,
     "metadata": {},
     "output_type": "execute_result"
    },
    {
     "data": {
      "image/png": "[encoded data removed]",
      "text/plain": [
       "<Figure size 1000x2000 with 1 Axes>"
      ]
     },
     "metadata": {},
     "output_type": "display_data"
    }
   ],
   "source": [
    "by_weather_description['traffic_volume'].plot.barh(figsize = (10, 20))"
   ]
  },
  {
   "cell_type": "code",
   "execution_count": 139,
   "metadata": {
    "scrolled": true
   },
   "outputs": [
    {
     "data": {
      "text/plain": [
       "weather_description\n",
       "SQUALLS                                4211.000000\n",
       "Sky is Clear                           4892.837460\n",
       "broken clouds                          4787.476860\n",
       "drizzle                                4704.367089\n",
       "few clouds                             4800.981605\n",
       "fog                                    4331.733333\n",
       "freezing rain                          4314.000000\n",
       "haze                                   4594.139932\n",
       "heavy intensity drizzle                4760.666667\n",
       "heavy intensity rain                   4601.644898\n",
       "heavy snow                             4332.738372\n",
       "light intensity drizzle                4836.340289\n",
       "light intensity shower rain            4558.100000\n",
       "light rain                             4814.470908\n",
       "light rain and snow                    5579.750000\n",
       "light shower snow                      4618.636364\n",
       "light snow                             4409.314607\n",
       "mist                                   4558.200401\n",
       "moderate rain                          4719.975890\n",
       "overcast clouds                        4820.160347\n",
       "proximity shower rain                  4901.756757\n",
       "proximity thunderstorm                 4603.744681\n",
       "proximity thunderstorm with drizzle    4556.857143\n",
       "proximity thunderstorm with rain       4477.954545\n",
       "scattered clouds                       4893.327624\n",
       "shower drizzle                         4932.666667\n",
       "shower snow                            5664.000000\n",
       "sky is clear                           4693.355873\n",
       "sleet                                  4312.666667\n",
       "smoke                                  4317.076923\n",
       "snow                                   3985.523810\n",
       "thunderstorm                           4760.527273\n",
       "thunderstorm with drizzle              2297.000000\n",
       "thunderstorm with heavy rain           4411.884615\n",
       "thunderstorm with light drizzle        4449.250000\n",
       "thunderstorm with light rain           4341.925926\n",
       "thunderstorm with rain                 4613.695652\n",
       "very heavy rain                        4302.750000\n",
       "Name: traffic_volume, dtype: float64"
      ]
     },
     "execution_count": 139,
     "metadata": {},
     "output_type": "execute_result"
    }
   ],
   "source": [
    "by_weather_description['traffic_volume']"
   ]
  },
  {
   "cell_type": "markdown",
   "metadata": {},
   "source": [
    "### Analysis of the above\n",
    "\n",
    "It's a bit odd, you might think, that the traffic volumes are highest during the weather descriptions 'light rain and snow' (5579), 'shower snow' (5664), and shower drizzle (4932). However, there could be many reasons as to why traffic volumes are highest during these points.\n",
    "\n",
    "They are lowest during 'thunderstorm with drizzle' (2297), and 'SQUALLS' (4211). \n",
    "\n",
    "There are many ways we could go into interpretation here. We could look at the months, days of the week, or hours of the day when these occured. Maybe they happened to occur on specific days, such as a business day, where people could not avoid the weather.\n",
    "\n",
    "Maybe the weather forecast of shower snow was actually a lot more timid than we realize. It's very ambigious and hard to draw conclusions. We can continue to dive into the dataset and answer other questions, or try to analyze the weather further. However, I will be moving on to more data analysis so I can pick up more coding skills."
   ]
  },
  {
   "cell_type": "code",
   "execution_count": null,
   "metadata": {},
   "outputs": [],
   "source": []
  }
 ],
 "metadata": {
  "kernelspec": {
   "display_name": "Python 3",
   "language": "python",
   "name": "python3"
  },
  "language_info": {
   "codemirror_mode": {
    "name": "ipython",
    "version": 3
   },
   "file_extension": ".py",
   "mimetype": "text/x-python",
   "name": "python",
   "nbconvert_exporter": "python",
   "pygments_lexer": "ipython3",
   "version": "3.8.2"
  }
 },
 "nbformat": 4,
 "nbformat_minor": 4
}
